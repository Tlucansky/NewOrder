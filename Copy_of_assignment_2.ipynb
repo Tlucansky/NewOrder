{
  "cells": [
    {
      "cell_type": "markdown",
      "metadata": {
        "id": "view-in-github",
        "colab_type": "text"
      },
      "source": [
        "<a href=\"https://colab.research.google.com/github/Tlucansky/NewOrder/blob/master/Copy_of_assignment_2.ipynb\" target=\"_parent\"><img src=\"https://colab.research.google.com/assets/colab-badge.svg\" alt=\"Open In Colab\"/></a>"
      ]
    },
    {
      "cell_type": "markdown",
      "metadata": {
        "id": "BJNU3S_6WLYD"
      },
      "source": [
        "# Coding Assignment 2: Image Classification with Deep Learning Methods\n",
        "\n",
        "Machine Learning (BBWL), University of St. Gallen, Spring Term 2022, Michael Mommert"
      ]
    },
    {
      "cell_type": "markdown",
      "metadata": {
        "id": "h86Q4NlWWLYF"
      },
      "source": [
        "# Technicalities\n",
        "\n",
        "This Jupyter Notebook contains your first MLBBWL coding assignment. Please work on this assignment in groups of ~5 students - those groups should be same groups as in assignment 1. The names of all students, who work in one team on this specific assignment, must be listed below. Please note that assignment groups cannot change in the course of the semester.\n",
        "\n",
        "This assigment must be submitted via email to [aiml-teaching.ics@unisg.ch](aiml-teaching.ics@unisg.ch) (subject line: MLBBWL coding assignment 2) by **May 24, 23:59** at the latest.\n",
        "\n",
        "Also, the results from this notebook must be presented at the final presentation on May 25. Students should be able to answer questions on design decisions in this Notebook and the underlying methods. Each student must be able to answer questions to either of the two assignments, but not necessarily both, which means that it is perfectly fine to split each group into an assignment-1 subgroup and an assignment-2 subgroup.\n",
        "\n",
        "# Grading\n",
        "\n",
        "The grading of both coding assignments is done based on the following criteria:\n",
        "* **Code and Method implementation and documentation** (clean and well-structured code and Notebook, inline documentation where useful, markdown text, plots where useful, analysis of results)\n",
        "* **ML approach novelty** (does the approach go beyond what we did in the lab?)\n",
        "* **ML approach Q&A** (can the students who worked on the traditional ML approach explain their code, design ideas, issues etc.)\n",
        "* **DL approach novelty** (does the approach go beyond what we did in the lab?)\n",
        "* **DL approach Q&A** (can the students who worked on the DL approach explain their code, design ideas, issues etc.)\n",
        "* **Presentation quality** (are the slides complete and understandable?)"
      ]
    },
    {
      "cell_type": "markdown",
      "metadata": {
        "id": "U-A2_L_nWLYF"
      },
      "source": [
        "\n",
        "# Task Description\n",
        "\n",
        "The goal of this assignment is to write code that performs well on the task of **image classification based on the CiFAR-10 data set**.\n",
        "\n",
        "The CiFAR-10 data set consists of 50,000 training images, each 32x32 color images, that fall into one out of 10 classes. In addition, an independent test data set of 10,000 image is available on which the model will be evaluated. The model will be evaluated based on the **accuracy** metric based on the **test** data set.\n",
        "\n",
        "<table cellspacing=\"0\" cellpadding=\"0\">\n",
        "    <tr>\n",
        "        <td class=\"cifar-class-name\">airplane</td>\n",
        "        <td><img src=\"https://www.cs.toronto.edu/~kriz/cifar-10-sample/airplane1.png\" class=\"cifar-sample\" /></td>\n",
        "        <td><img src=\"https://www.cs.toronto.edu/~kriz/cifar-10-sample/airplane2.png\" class=\"cifar-sample\" /></td>\n",
        "        <td><img src=\"https://www.cs.toronto.edu/~kriz/cifar-10-sample/airplane3.png\" class=\"cifar-sample\" /></td>\n",
        "        <td><img src=\"https://www.cs.toronto.edu/~kriz/cifar-10-sample/airplane4.png\" class=\"cifar-sample\" /></td>\n",
        "        <td><img src=\"https://www.cs.toronto.edu/~kriz/cifar-10-sample/airplane5.png\" class=\"cifar-sample\" /></td>\n",
        "        <td><img src=\"https://www.cs.toronto.edu/~kriz/cifar-10-sample/airplane6.png\" class=\"cifar-sample\" /></td>\n",
        "        <td><img src=\"https://www.cs.toronto.edu/~kriz/cifar-10-sample/airplane7.png\" class=\"cifar-sample\" /></td>\n",
        "        <td><img src=\"https://www.cs.toronto.edu/~kriz/cifar-10-sample/airplane8.png\" class=\"cifar-sample\" /></td>\n",
        "        <td><img src=\"https://www.cs.toronto.edu/~kriz/cifar-10-sample/airplane9.png\" class=\"cifar-sample\" /></td>\n",
        "        <td><img src=\"https://www.cs.toronto.edu/~kriz/cifar-10-sample/airplane10.png\" class=\"cifar-sample\" /></td>\n",
        "    </tr>\n",
        "    <tr>\n",
        "        <td class=\"cifar-class-name\">automobile</td>\n",
        "        <td><img src=\"https://www.cs.toronto.edu/~kriz/cifar-10-sample/automobile1.png\" class=\"cifar-sample\" /></td>\n",
        "        <td><img src=\"https://www.cs.toronto.edu/~kriz/cifar-10-sample/automobile2.png\" class=\"cifar-sample\" /></td>\n",
        "        <td><img src=\"https://www.cs.toronto.edu/~kriz/cifar-10-sample/automobile3.png\" class=\"cifar-sample\" /></td>\n",
        "        <td><img src=\"https://www.cs.toronto.edu/~kriz/cifar-10-sample/automobile4.png\" class=\"cifar-sample\" /></td>\n",
        "        <td><img src=\"https://www.cs.toronto.edu/~kriz/cifar-10-sample/automobile5.png\" class=\"cifar-sample\" /></td>\n",
        "        <td><img src=\"https://www.cs.toronto.edu/~kriz/cifar-10-sample/automobile6.png\" class=\"cifar-sample\" /></td>\n",
        "        <td><img src=\"https://www.cs.toronto.edu/~kriz/cifar-10-sample/automobile7.png\" class=\"cifar-sample\" /></td>\n",
        "        <td><img src=\"https://www.cs.toronto.edu/~kriz/cifar-10-sample/automobile8.png\" class=\"cifar-sample\" /></td>\n",
        "        <td><img src=\"https://www.cs.toronto.edu/~kriz/cifar-10-sample/automobile9.png\" class=\"cifar-sample\" /></td>\n",
        "        <td><img src=\"https://www.cs.toronto.edu/~kriz/cifar-10-sample/automobile10.png\" class=\"cifar-sample\" /></td>\n",
        "    </tr>\n",
        "    <tr>\n",
        "        <td class=\"cifar-class-name\">bird</td>\n",
        "        <td><img src=\"https://www.cs.toronto.edu/~kriz/cifar-10-sample/bird1.png\" class=\"cifar-sample\" /></td>\n",
        "        <td><img src=\"https://www.cs.toronto.edu/~kriz/cifar-10-sample/bird2.png\" class=\"cifar-sample\" /></td>\n",
        "        <td><img src=\"https://www.cs.toronto.edu/~kriz/cifar-10-sample/bird3.png\" class=\"cifar-sample\" /></td>\n",
        "        <td><img src=\"https://www.cs.toronto.edu/~kriz/cifar-10-sample/bird4.png\" class=\"cifar-sample\" /></td>\n",
        "        <td><img src=\"https://www.cs.toronto.edu/~kriz/cifar-10-sample/bird5.png\" class=\"cifar-sample\" /></td>\n",
        "        <td><img src=\"https://www.cs.toronto.edu/~kriz/cifar-10-sample/bird6.png\" class=\"cifar-sample\" /></td>\n",
        "        <td><img src=\"https://www.cs.toronto.edu/~kriz/cifar-10-sample/bird7.png\" class=\"cifar-sample\" /></td>\n",
        "        <td><img src=\"https://www.cs.toronto.edu/~kriz/cifar-10-sample/bird8.png\" class=\"cifar-sample\" /></td>\n",
        "        <td><img src=\"https://www.cs.toronto.edu/~kriz/cifar-10-sample/bird9.png\" class=\"cifar-sample\" /></td>\n",
        "        <td><img src=\"https://www.cs.toronto.edu/~kriz/cifar-10-sample/bird10.png\" class=\"cifar-sample\" /></td>\n",
        "    </tr>\n",
        "    <tr>\n",
        "        <td class=\"cifar-class-name\">cat</td>\n",
        "        <td><img src=\"https://www.cs.toronto.edu/~kriz/cifar-10-sample/cat1.png\" class=\"cifar-sample\" /></td>\n",
        "        <td><img src=\"https://www.cs.toronto.edu/~kriz/cifar-10-sample/cat2.png\" class=\"cifar-sample\" /></td>\n",
        "        <td><img src=\"https://www.cs.toronto.edu/~kriz/cifar-10-sample/cat3.png\" class=\"cifar-sample\" /></td>\n",
        "        <td><img src=\"https://www.cs.toronto.edu/~kriz/cifar-10-sample/cat4.png\" class=\"cifar-sample\" /></td>\n",
        "        <td><img src=\"https://www.cs.toronto.edu/~kriz/cifar-10-sample/cat5.png\" class=\"cifar-sample\" /></td>\n",
        "        <td><img src=\"https://www.cs.toronto.edu/~kriz/cifar-10-sample/cat6.png\" class=\"cifar-sample\" /></td>\n",
        "        <td><img src=\"https://www.cs.toronto.edu/~kriz/cifar-10-sample/cat7.png\" class=\"cifar-sample\" /></td>\n",
        "        <td><img src=\"https://www.cs.toronto.edu/~kriz/cifar-10-sample/cat8.png\" class=\"cifar-sample\" /></td>\n",
        "        <td><img src=\"https://www.cs.toronto.edu/~kriz/cifar-10-sample/cat9.png\" class=\"cifar-sample\" /></td>\n",
        "        <td><img src=\"https://www.cs.toronto.edu/~kriz/cifar-10-sample/cat10.png\" class=\"cifar-sample\" /></td>\n",
        "    </tr>\n",
        "    <tr>\n",
        "        <td class=\"cifar-class-name\">deer</td>\n",
        "        <td><img src=\"https://www.cs.toronto.edu/~kriz/cifar-10-sample/deer1.png\" class=\"cifar-sample\" /></td>\n",
        "        <td><img src=\"https://www.cs.toronto.edu/~kriz/cifar-10-sample/deer2.png\" class=\"cifar-sample\" /></td>\n",
        "        <td><img src=\"https://www.cs.toronto.edu/~kriz/cifar-10-sample/deer3.png\" class=\"cifar-sample\" /></td>\n",
        "        <td><img src=\"https://www.cs.toronto.edu/~kriz/cifar-10-sample/deer4.png\" class=\"cifar-sample\" /></td>\n",
        "        <td><img src=\"https://www.cs.toronto.edu/~kriz/cifar-10-sample/deer5.png\" class=\"cifar-sample\" /></td>\n",
        "        <td><img src=\"https://www.cs.toronto.edu/~kriz/cifar-10-sample/deer6.png\" class=\"cifar-sample\" /></td>\n",
        "        <td><img src=\"https://www.cs.toronto.edu/~kriz/cifar-10-sample/deer7.png\" class=\"cifar-sample\" /></td>\n",
        "        <td><img src=\"https://www.cs.toronto.edu/~kriz/cifar-10-sample/deer8.png\" class=\"cifar-sample\" /></td>\n",
        "        <td><img src=\"https://www.cs.toronto.edu/~kriz/cifar-10-sample/deer9.png\" class=\"cifar-sample\" /></td>\n",
        "        <td><img src=\"https://www.cs.toronto.edu/~kriz/cifar-10-sample/deer10.png\" class=\"cifar-sample\" /></td>\n",
        "    </tr>\n",
        "    <tr>\n",
        "        <td class=\"cifar-class-name\">dog</td>\n",
        "        <td><img src=\"https://www.cs.toronto.edu/~kriz/cifar-10-sample/dog1.png\" class=\"cifar-sample\" /></td>\n",
        "        <td><img src=\"https://www.cs.toronto.edu/~kriz/cifar-10-sample/dog2.png\" class=\"cifar-sample\" /></td>\n",
        "        <td><img src=\"https://www.cs.toronto.edu/~kriz/cifar-10-sample/dog3.png\" class=\"cifar-sample\" /></td>\n",
        "        <td><img src=\"https://www.cs.toronto.edu/~kriz/cifar-10-sample/dog4.png\" class=\"cifar-sample\" /></td>\n",
        "        <td><img src=\"https://www.cs.toronto.edu/~kriz/cifar-10-sample/dog5.png\" class=\"cifar-sample\" /></td>\n",
        "        <td><img src=\"https://www.cs.toronto.edu/~kriz/cifar-10-sample/dog6.png\" class=\"cifar-sample\" /></td>\n",
        "        <td><img src=\"https://www.cs.toronto.edu/~kriz/cifar-10-sample/dog7.png\" class=\"cifar-sample\" /></td>\n",
        "        <td><img src=\"https://www.cs.toronto.edu/~kriz/cifar-10-sample/dog8.png\" class=\"cifar-sample\" /></td>\n",
        "        <td><img src=\"https://www.cs.toronto.edu/~kriz/cifar-10-sample/dog9.png\" class=\"cifar-sample\" /></td>\n",
        "        <td><img src=\"https://www.cs.toronto.edu/~kriz/cifar-10-sample/dog10.png\" class=\"cifar-sample\" /></td>\n",
        "    </tr>\n",
        "    <tr>\n",
        "        <td class=\"cifar-class-name\">frog</td>\n",
        "        <td><img src=\"https://www.cs.toronto.edu/~kriz/cifar-10-sample/frog1.png\" class=\"cifar-sample\" /></td>\n",
        "        <td><img src=\"https://www.cs.toronto.edu/~kriz/cifar-10-sample/frog2.png\" class=\"cifar-sample\" /></td>\n",
        "        <td><img src=\"https://www.cs.toronto.edu/~kriz/cifar-10-sample/frog3.png\" class=\"cifar-sample\" /></td>\n",
        "        <td><img src=\"https://www.cs.toronto.edu/~kriz/cifar-10-sample/frog4.png\" class=\"cifar-sample\" /></td>\n",
        "        <td><img src=\"https://www.cs.toronto.edu/~kriz/cifar-10-sample/frog5.png\" class=\"cifar-sample\" /></td>\n",
        "        <td><img src=\"https://www.cs.toronto.edu/~kriz/cifar-10-sample/frog6.png\" class=\"cifar-sample\" /></td>\n",
        "        <td><img src=\"https://www.cs.toronto.edu/~kriz/cifar-10-sample/frog7.png\" class=\"cifar-sample\" /></td>\n",
        "        <td><img src=\"https://www.cs.toronto.edu/~kriz/cifar-10-sample/frog8.png\" class=\"cifar-sample\" /></td>\n",
        "        <td><img src=\"https://www.cs.toronto.edu/~kriz/cifar-10-sample/frog9.png\" class=\"cifar-sample\" /></td>\n",
        "        <td><img src=\"https://www.cs.toronto.edu/~kriz/cifar-10-sample/frog10.png\" class=\"cifar-sample\" /></td>\n",
        "    </tr>\n",
        "    <tr>\n",
        "        <td class=\"cifar-class-name\">horse</td>\n",
        "        <td><img src=\"https://www.cs.toronto.edu/~kriz/cifar-10-sample/horse1.png\" class=\"cifar-sample\" /></td>\n",
        "        <td><img src=\"https://www.cs.toronto.edu/~kriz/cifar-10-sample/horse2.png\" class=\"cifar-sample\" /></td>\n",
        "        <td><img src=\"https://www.cs.toronto.edu/~kriz/cifar-10-sample/horse3.png\" class=\"cifar-sample\" /></td>\n",
        "        <td><img src=\"https://www.cs.toronto.edu/~kriz/cifar-10-sample/horse4.png\" class=\"cifar-sample\" /></td>\n",
        "        <td><img src=\"https://www.cs.toronto.edu/~kriz/cifar-10-sample/horse5.png\" class=\"cifar-sample\" /></td>\n",
        "        <td><img src=\"https://www.cs.toronto.edu/~kriz/cifar-10-sample/horse6.png\" class=\"cifar-sample\" /></td>\n",
        "        <td><img src=\"https://www.cs.toronto.edu/~kriz/cifar-10-sample/horse7.png\" class=\"cifar-sample\" /></td>\n",
        "        <td><img src=\"https://www.cs.toronto.edu/~kriz/cifar-10-sample/horse8.png\" class=\"cifar-sample\" /></td>\n",
        "        <td><img src=\"https://www.cs.toronto.edu/~kriz/cifar-10-sample/horse9.png\" class=\"cifar-sample\" /></td>\n",
        "        <td><img src=\"https://www.cs.toronto.edu/~kriz/cifar-10-sample/horse10.png\" class=\"cifar-sample\" /></td>\n",
        "    </tr>\n",
        "    <tr>\n",
        "        <td class=\"cifar-class-name\">ship</td>\n",
        "        <td><img src=\"https://www.cs.toronto.edu/~kriz/cifar-10-sample/ship1.png\" class=\"cifar-sample\" /></td>\n",
        "        <td><img src=\"https://www.cs.toronto.edu/~kriz/cifar-10-sample/ship2.png\" class=\"cifar-sample\" /></td>\n",
        "        <td><img src=\"https://www.cs.toronto.edu/~kriz/cifar-10-sample/ship3.png\" class=\"cifar-sample\" /></td>\n",
        "        <td><img src=\"https://www.cs.toronto.edu/~kriz/cifar-10-sample/ship4.png\" class=\"cifar-sample\" /></td>\n",
        "        <td><img src=\"https://www.cs.toronto.edu/~kriz/cifar-10-sample/ship5.png\" class=\"cifar-sample\" /></td>\n",
        "        <td><img src=\"https://www.cs.toronto.edu/~kriz/cifar-10-sample/ship6.png\" class=\"cifar-sample\" /></td>\n",
        "        <td><img src=\"https://www.cs.toronto.edu/~kriz/cifar-10-sample/ship7.png\" class=\"cifar-sample\" /></td>\n",
        "        <td><img src=\"https://www.cs.toronto.edu/~kriz/cifar-10-sample/ship8.png\" class=\"cifar-sample\" /></td>\n",
        "        <td><img src=\"https://www.cs.toronto.edu/~kriz/cifar-10-sample/ship9.png\" class=\"cifar-sample\" /></td>\n",
        "        <td><img src=\"https://www.cs.toronto.edu/~kriz/cifar-10-sample/ship10.png\" class=\"cifar-sample\" /></td>\n",
        "    </tr>\n",
        "    <tr>\n",
        "        <td class=\"cifar-class-name\">truck</td>\n",
        "        <td><img src=\"https://www.cs.toronto.edu/~kriz/cifar-10-sample/truck1.png\" class=\"cifar-sample\" /></td>\n",
        "        <td><img src=\"https://www.cs.toronto.edu/~kriz/cifar-10-sample/truck2.png\" class=\"cifar-sample\" /></td>\n",
        "        <td><img src=\"https://www.cs.toronto.edu/~kriz/cifar-10-sample/truck3.png\" class=\"cifar-sample\" /></td>\n",
        "        <td><img src=\"https://www.cs.toronto.edu/~kriz/cifar-10-sample/truck4.png\" class=\"cifar-sample\" /></td>\n",
        "        <td><img src=\"https://www.cs.toronto.edu/~kriz/cifar-10-sample/truck5.png\" class=\"cifar-sample\" /></td>\n",
        "        <td><img src=\"https://www.cs.toronto.edu/~kriz/cifar-10-sample/truck6.png\" class=\"cifar-sample\" /></td>\n",
        "        <td><img src=\"https://www.cs.toronto.edu/~kriz/cifar-10-sample/truck7.png\" class=\"cifar-sample\" /></td>\n",
        "        <td><img src=\"https://www.cs.toronto.edu/~kriz/cifar-10-sample/truck8.png\" class=\"cifar-sample\" /></td>\n",
        "        <td><img src=\"https://www.cs.toronto.edu/~kriz/cifar-10-sample/truck9.png\" class=\"cifar-sample\" /></td>\n",
        "        <td><img src=\"https://www.cs.toronto.edu/~kriz/cifar-10-sample/truck10.png\" class=\"cifar-sample\" /></td>\n",
        "    </tr>\n",
        "</table>\n",
        "\n",
        "(Visualization from [Alex Krizhevsky](https://www.cs.toronto.edu/~kriz/cifar.html))\n",
        "\n",
        "## Rules\n",
        "\n",
        "You are free to use any deep learning model and any code that we used in the lab courses or that you may find online, but you have to be able to explain what that code does. You have to implement your code in **Pytorch**, no other framework is allowed. Also, you have to utilize a model that learns from the data (memorizing the test set labels does not count). Achieving a high accuracy in this assignment is not necessarily required for a good grade (but it helps a little bit). Instead, it is more important that the method is implemented properly and the results are presented well. This includes a proper analysis of the results and the choice of hyperparameters should be justified.    \n",
        "\n",
        "You are required to submit a working Notebook with your code by the time of the deadline. It is required that you evaluate your model on the entire test data set with the accuracy metric."
      ]
    },
    {
      "cell_type": "markdown",
      "metadata": {
        "id": "7JkjCzWcWLYH"
      },
      "source": [
        "<hr>\n",
        "\n",
        "# Setup\n",
        "\n",
        "First, we import some important Python modules and setup our Python environment. Feel free to add more modules if you need them."
      ]
    },
    {
      "cell_type": "code",
      "execution_count": null,
      "metadata": {
        "id": "tFskOVvdWLYH"
      },
      "outputs": [],
      "source": [
        "# ignore warnings\n",
        "import warnings\n",
        "warnings.filterwarnings('ignore')\n",
        "\n",
        "# we will use torchvision to access CiFAR-10\n",
        "import torchvision\n",
        "\n",
        "# some useful imports\n",
        "import os\n",
        "import numpy as np\n",
        "import matplotlib.pyplot as plt \n",
        "\n",
        "# set a seed value for the random number generator\n",
        "seed_value = 42\n",
        "np.random.seed(seed_value) # set numpy seed"
      ]
    },
    {
      "cell_type": "markdown",
      "metadata": {
        "id": "y5k0T4_GWLYI"
      },
      "source": [
        "If you use Google Colab, you can mount your Google Drive to your Notebook environment. This allows you to save your Notebook, data, and trained models permanently. Run the following code cell to mount your Google Drive."
      ]
    },
    {
      "cell_type": "code",
      "execution_count": null,
      "metadata": {
        "id": "3fcw5OTuWLYI",
        "colab": {
          "base_uri": "https://localhost:8080/"
        },
        "outputId": "0a48a7db-4b3b-4795-a801-796e5814577f"
      },
      "outputs": [
        {
          "output_type": "stream",
          "name": "stdout",
          "text": [
            "Mounted at /content/drive\n"
          ]
        }
      ],
      "source": [
        "from google.colab import drive\n",
        "drive.mount('/content/drive')\n",
        "os.chdir('/content/drive/MyDrive/Colab Notebooks/')"
      ]
    },
    {
      "cell_type": "markdown",
      "metadata": {
        "id": "QXgXD6QpWLYI"
      },
      "source": [
        "Irrespective of whether you mounted your Google Drive or not, we create some directories for storing the data and the trained model instances."
      ]
    },
    {
      "cell_type": "code",
      "execution_count": null,
      "metadata": {
        "id": "QKQudtVbWLYI"
      },
      "outputs": [],
      "source": [
        "if not os.path.exists('./data'): os.makedirs('./data')  # create data directory\n",
        "if not os.path.exists('./models'): os.makedirs('./models')  # create trained models directory"
      ]
    },
    {
      "cell_type": "markdown",
      "metadata": {
        "id": "vEVnKc-OWLYJ"
      },
      "source": [
        "# Data Download and Access"
      ]
    },
    {
      "cell_type": "markdown",
      "metadata": {
        "id": "ABd-LZ-sWLYJ"
      },
      "source": [
        "We now download the CiFAR-10 data set. \n",
        "\n",
        "The **CIFAR-10 database** (**C**anadian **I**nstitute **F**or **A**dvanced **R**esearch) is a collection of images that are commonly used to train machine learning and computer vision algorithms. Details on the dataset can be obtained in [Krizhevsky, A., 2009. \"Learning Multiple Layers of Features from Tiny Images\"](https://www.cs.toronto.edu/~kriz/learning-features-2009-TR.pdf) or the [data set website](https://www.cs.toronto.edu/~kriz/cifar.html).\n",
        "\n",
        "The CIFAR-10 database contains **60,000 color images** (50,000 training images and 10,000 validation images). The size of each image is 32 by 32 pixels. The collection of images encompasses 10 different classes that represent airplanes, cars, birds, cats, deer, dogs, frogs, horses, ships, and trucks. Therefore, the dataset contains 6,000 images for each of the ten classes. \n",
        "\n",
        "Let's download, transform and inspect the training and test data sets:"
      ]
    },
    {
      "cell_type": "code",
      "execution_count": null,
      "metadata": {
        "id": "cWdHUfIIWLYJ"
      },
      "outputs": [],
      "source": [
        "# define paths to data sets\n",
        "train_path = './data/train_cifar10'\n",
        "test_path = './data/test_cifar10'\n",
        "\n",
        "# download and transform training images\n",
        "cifar10_train = torchvision.datasets.CIFAR10(root=train_path, train=True, download=True) if not os.path.exists(train_path) else torchvision.datasets.CIFAR10(root=train_path, train=True, transform=transf, download=False)\n",
        "cifar10_test = torchvision.datasets.CIFAR10(root=test_path, train=False, download=True) if not os.path.exists(test_path) else torchvision.datasets.CIFAR10(root=test_path, train=False, transform=transf, download=False)\n",
        "\n",
        "# extract data and labels\n",
        "cifar10_train_data = cifar10_train.data\n",
        "cifar10_train_labels = cifar10_train.targets\n",
        "cifar10_test_data = cifar10_test.data\n",
        "cifar10_test_labels = cifar10_test.targets\n",
        "\n",
        "# extract class labels\n",
        "cifar10_classes = cifar10_train.classes\n"
      ]
    },
    {
      "cell_type": "markdown",
      "metadata": {
        "id": "ISlqvE-NWLYJ"
      },
      "source": [
        "Check whether the data sets are complete and have a look at their shape:"
      ]
    },
    {
      "cell_type": "code",
      "execution_count": null,
      "metadata": {
        "id": "okps5TPlWLYJ",
        "colab": {
          "base_uri": "https://localhost:8080/"
        },
        "outputId": "652903a6-57a1-4b5c-f6c0-60d13475f67a"
      },
      "outputs": [
        {
          "output_type": "execute_result",
          "data": {
            "text/plain": [
              "((50000, 32, 32, 3), (10000, 32, 32, 3))"
            ]
          },
          "metadata": {},
          "execution_count": 14
        }
      ],
      "source": [
        "cifar10_train_data.shape, cifar10_test_data.shape"
      ]
    },
    {
      "cell_type": "markdown",
      "metadata": {
        "id": "sHxVqlsEWLYK"
      },
      "source": [
        "Looks good, we have 50000 training images and 10000 test images. Each image has $32\\times32$ pixels and 3 channels (RGB). Let's extract a single image:"
      ]
    },
    {
      "cell_type": "code",
      "execution_count": null,
      "metadata": {
        "id": "STAhn-IVWLYK",
        "colab": {
          "base_uri": "https://localhost:8080/"
        },
        "outputId": "b579121b-f7e1-43ff-b9cd-756b20b6bc67"
      },
      "outputs": [
        {
          "output_type": "execute_result",
          "data": {
            "text/plain": [
              "array([[[213, 229, 242],\n",
              "        [211, 227, 240],\n",
              "        [211, 227, 240],\n",
              "        ...,\n",
              "        [151, 174, 206],\n",
              "        [151, 174, 206],\n",
              "        [149, 172, 204]],\n",
              "\n",
              "       [[214, 229, 241],\n",
              "        [212, 227, 239],\n",
              "        [212, 227, 239],\n",
              "        ...,\n",
              "        [152, 175, 207],\n",
              "        [152, 175, 207],\n",
              "        [151, 174, 205]],\n",
              "\n",
              "       [[216, 229, 239],\n",
              "        [214, 227, 237],\n",
              "        [213, 227, 237],\n",
              "        ...,\n",
              "        [153, 176, 206],\n",
              "        [153, 176, 206],\n",
              "        [151, 174, 204]],\n",
              "\n",
              "       ...,\n",
              "\n",
              "       [[145, 159, 165],\n",
              "        [136, 148, 154],\n",
              "        [143, 152, 158],\n",
              "        ...,\n",
              "        [216, 217, 206],\n",
              "        [196, 197, 191],\n",
              "        [183, 183, 182]],\n",
              "\n",
              "       [[139, 153, 159],\n",
              "        [129, 142, 148],\n",
              "        [129, 139, 145],\n",
              "        ...,\n",
              "        [227, 228, 219],\n",
              "        [223, 224, 219],\n",
              "        [209, 209, 209]],\n",
              "\n",
              "       [[137, 152, 157],\n",
              "        [143, 155, 161],\n",
              "        [136, 145, 152],\n",
              "        ...,\n",
              "        [209, 209, 203],\n",
              "        [217, 217, 213],\n",
              "        [228, 228, 226]]], dtype=uint8)"
            ]
          },
          "metadata": {},
          "execution_count": 15
        }
      ],
      "source": [
        "cifar10_train_data[100]"
      ]
    },
    {
      "cell_type": "markdown",
      "metadata": {
        "id": "GnN0hJ42WLYK"
      },
      "source": [
        "Let's plot this image with matplotlib:"
      ]
    },
    {
      "cell_type": "code",
      "execution_count": null,
      "metadata": {
        "id": "exuXQHeuWLYK",
        "colab": {
          "base_uri": "https://localhost:8080/",
          "height": 283
        },
        "outputId": "185c41c0-3838-4ef8-c362-76844387e0ec"
      },
      "outputs": [
        {
          "output_type": "execute_result",
          "data": {
            "text/plain": [
              "<matplotlib.image.AxesImage at 0x7f3ee6183950>"
            ]
          },
          "metadata": {},
          "execution_count": 16
        },
        {
          "output_type": "display_data",
          "data": {
            "text/plain": [
              "<Figure size 432x288 with 1 Axes>"
            ],
            "image/png": "[encoded data removed]"
          },
          "metadata": {
            "needs_background": "light"
          }
        }
      ],
      "source": [
        "plt.imshow(cifar10_train_data[1000])"
      ]
    },
    {
      "cell_type": "markdown",
      "metadata": {
        "id": "fEChnpZtWLYL"
      },
      "source": [
        "This looks like a truck. Let's check the actual image label:"
      ]
    },
    {
      "cell_type": "code",
      "execution_count": null,
      "metadata": {
        "id": "uan38NtXWLYL",
        "colab": {
          "base_uri": "https://localhost:8080/",
          "height": 37
        },
        "outputId": "869d2dd6-fe8b-43d7-8cdf-c344507fbc35"
      },
      "outputs": [
        {
          "output_type": "execute_result",
          "data": {
            "text/plain": [
              "'truck'"
            ],
            "application/vnd.google.colaboratory.intrinsic+json": {
              "type": "string"
            }
          },
          "metadata": {},
          "execution_count": 17
        }
      ],
      "source": [
        "cifar10_classes[cifar10_train_labels[1000]]"
      ]
    },
    {
      "cell_type": "markdown",
      "metadata": {
        "id": "e7JG0S_RWLYL"
      },
      "source": [
        "Indeed, this is a truck. No go out and train a model to classify these images!"
      ]
    },
    {
      "cell_type": "markdown",
      "metadata": {
        "id": "AHKvyykbWLYL"
      },
      "source": [
        "<hr>\n",
        "\n",
        "# Team\n",
        "\n",
        "Please enter here the names of students that worked on this Notebook:\n",
        "* Adam Lodrik (18-418-871)\n",
        "* Asefaw Yosef (19-614-742)\n",
        "* Lucansky Tomas (21-614-213)\n",
        "* Noël Thomas (19-614-213)"
      ]
    },
    {
      "cell_type": "markdown",
      "metadata": {
        "id": "rwcnoBJuWLYM"
      },
      "source": [
        "<hr>\n",
        "\n",
        "# Implementation"
      ]
    },
    {
      "cell_type": "markdown",
      "source": [
        "Setup Environment \n",
        "- some useful additional imports"
      ],
      "metadata": {
        "id": "vR0yP7ekThTG"
      }
    },
    {
      "cell_type": "code",
      "source": [
        "# standard python libraries\n",
        "import urllib, io\n",
        "from datetime import datetime\n",
        "\n",
        "# PyTorch deep learning library\n",
        "import torch\n",
        "import torch.nn.functional as F\n",
        "from torch import nn, optim\n",
        "from torch.autograd import Variable\n",
        "\n",
        "# sklearn classification evaluation library\n",
        "from sklearn import metrics\n",
        "from sklearn.metrics import classification_report, confusion_matrix\n",
        "\n",
        "# seaborn, and PIL data visualization libary\n",
        "import seaborn as sns\n",
        "from PIL import Image\n",
        "\n",
        "# enable notebook matplotlib inline plotting\n",
        "%matplotlib inline\n",
        "\n",
        "# set pytorch seed CPU \n",
        "torch.manual_seed(seed_value)\n",
        "\n",
        "# set CPU or GPU enabled device (preferably GPU)\n",
        "device = torch.device('cuda' if torch.cuda.is_available() else 'CPU').type\n",
        "\n",
        "# set seed GPU\n",
        "torch.cuda.manual_seed(seed_value)\n",
        "\n",
        "# log type of device enabled\n",
        "print('[LOG] notebook with {} computation enabled'.format(str(device)))\n",
        "\n",
        "# GPU access check\n",
        "!nvidia-smi"
      ],
      "metadata": {
        "colab": {
          "base_uri": "https://localhost:8080/"
        },
        "id": "_K0-o85xTg3L",
        "outputId": "36ee1c88-c27b-4a94-c5f7-ce90ce3dae7f"
      },
      "execution_count": 36,
      "outputs": [
        {
          "output_type": "stream",
          "name": "stdout",
          "text": [
            "[LOG] notebook with cpu computation enabled\n",
            "NVIDIA-SMI has failed because it couldn't communicate with the NVIDIA driver. Make sure that the latest NVIDIA driver is installed and running.\n",
            "\n"
          ]
        }
      ]
    },
    {
      "cell_type": "markdown",
      "source": [
        "Dataset download and data assesment"
      ],
      "metadata": {
        "id": "KK8GDnSJTfCv"
      }
    },
    {
      "cell_type": "code",
      "execution_count": null,
      "metadata": {
        "id": "LOTY3DrMWLYM",
        "colab": {
          "base_uri": "https://localhost:8080/",
          "height": 298
        },
        "cellView": "code",
        "outputId": "104e8e24-04a1-47eb-fdef-339fb74d10fc"
      },
      "outputs": [
        {
          "output_type": "execute_result",
          "data": {
            "text/plain": [
              "<matplotlib.image.AxesImage at 0x7f3ee68b7dd0>"
            ]
          },
          "metadata": {},
          "execution_count": 19
        },
        {
          "output_type": "display_data",
          "data": {
            "text/plain": [
              "<Figure size 432x288 with 1 Axes>"
            ],
            "image/png": "[encoded data removed]"
          },
          "metadata": {
            "needs_background": "light"
          }
        }
      ],
      "source": [
        "# define pytorch transformation into tensor format\n",
        "transf = torchvision.transforms.Compose([torchvision.transforms.ToTensor(), torchvision.transforms.Normalize((0.5, 0.5, 0.5), (0.5, 0.5, 0.5))])\n",
        "\n",
        "# define tensor to image transformation\n",
        "trans = torchvision.transforms.ToPILImage()"
      ]
    },
    {
      "cell_type": "markdown",
      "source": [
        "Neural Network Implementation"
      ],
      "metadata": {
        "id": "bbRCNg5tTdG_"
      }
    },
    {
      "cell_type": "code",
      "source": [
        "# implement the CIFAR10Net network architecture\n",
        "class CIFAR10Net(nn.Module):\n",
        "    \n",
        "    # define the class constructor\n",
        "    def __init__(self):\n",
        "        \n",
        "        # call super class constructor\n",
        "        super(CIFAR10Net, self).__init__()\n",
        "        \n",
        "        # specify convolution layer 1\n",
        "        self.conv1 = nn.Conv2d(in_channels=3, out_channels=6, kernel_size=5, stride=1, padding=0)\n",
        "        \n",
        "        # define max-pooling layer 1\n",
        "        self.pool1 = nn.MaxPool2d(kernel_size=2, stride=2)\n",
        "        \n",
        "        # specify convolution layer 2\n",
        "        self.conv2 = nn.Conv2d(in_channels=6, out_channels=16, kernel_size=5, stride=1, padding=0)\n",
        "        \n",
        "        # define max-pooling layer 2\n",
        "        self.pool2 = nn.MaxPool2d(kernel_size=2, stride=2)\n",
        "        \n",
        "        # specify fc layer 1 - in 16 * 5 * 5, out 120\n",
        "        self.linear1 = nn.Linear(16 * 5 * 5, 120, bias=True) # the linearity W*x+b\n",
        "        self.relu1 = nn.ReLU(inplace=True) # the non-linearity\n",
        "        \n",
        "        # specify fc layer 2 - in 120, out 84\n",
        "        self.linear2 = nn.Linear(120, 84, bias=True) # the linearity W*x+b\n",
        "        self.relu2 = nn.ReLU(inplace=True) # the non-linarity\n",
        "        \n",
        "        # specify fc layer 3 - in 84, out 10\n",
        "        self.linear3 = nn.Linear(84, 10) # the linearity W*x+b\n",
        "        \n",
        "        # add a softmax to the last layer\n",
        "        self.logsoftmax = nn.LogSoftmax(dim=1)\n",
        "\n",
        "        # ReLU as non-linear activation function\n",
        "        self.relu = nn.ReLU(inplace=True) \n",
        "        \n",
        "    # define network forward pass\n",
        "    def forward(self, images):\n",
        "        \n",
        "        # high-level feature learning via convolutional layers\n",
        "        \n",
        "        # define conv layer 1 forward pass\n",
        "        x = self.pool1(self.relu1(self.conv1(images)))\n",
        "        \n",
        "        # define conv layer 2 forward pass\n",
        "        x = self.pool2(self.relu2(self.conv2(x)))\n",
        "        \n",
        "        # feature flattening\n",
        "        \n",
        "        # reshape image pixels\n",
        "        x = x.view(-1, 16 * 5 * 5)\n",
        "        \n",
        "        # combination of feature learning via non-linear layers\n",
        "        \n",
        "        # define fc layer 1 forward pass\n",
        "        x = self.relu(self.linear1(x))\n",
        "        \n",
        "        # define fc layer 2 forward pass\n",
        "        x = self.relu(self.linear2(x))\n",
        "        \n",
        "        # define layer 3 forward pass\n",
        "        x = self.logsoftmax(self.linear3(x))\n",
        "        \n",
        "        # return forward pass result\n",
        "        return x"
      ],
      "metadata": {
        "id": "WVsnzY8yV93C"
      },
      "execution_count": null,
      "outputs": []
    },
    {
      "cell_type": "markdown",
      "source": [
        "Model Initiation\n",
        "\n",
        "Defining:\n",
        "   \n",
        "    - optimization criterion / loss function\n",
        "    - learning rate\n",
        "    - optimization strategy"
      ],
      "metadata": {
        "id": "RMMrjcceV_Ue"
      }
    },
    {
      "cell_type": "code",
      "source": [
        "model = CIFAR10Net()\n",
        "\n",
        "model = model.to(device)\n",
        "\n",
        "# print the initialized architectures\n",
        "print('[LOG] CIFAR10Net architecture:\\n\\n{}\\n'.format(model))\n",
        "\n",
        "# init the number of model parameters\n",
        "num_params = 0\n",
        "\n",
        "# iterate over the distinct parameters\n",
        "for param in model.parameters():\n",
        "\n",
        "    # collect number of parameters\n",
        "    num_params += param.numel()\n",
        "    \n",
        "# print the number of model paramters\n",
        "print('[LOG] Number of to be trained CIFAR10Net model parameters: {}.'.format(num_params))\n",
        "\n",
        "# define optimization criterion / loss function\n",
        "nll_loss = nn.NLLLoss()\n",
        "\n",
        "nll_loss = nll_loss.to(device)\n",
        "\n",
        "# define learning rate and optimization strategy\n",
        "learning_rate = 0.001\n",
        "optimizer = optim.SGD(params=model.parameters(), lr=learning_rate)\n",
        "\n"
      ],
      "metadata": {
        "colab": {
          "base_uri": "https://localhost:8080/"
        },
        "id": "hYPGwFBeV--V",
        "outputId": "c57c4e32-ba33-480b-9148-34a71bb23bea"
      },
      "execution_count": null,
      "outputs": [
        {
          "output_type": "stream",
          "name": "stdout",
          "text": [
            "[LOG] CIFAR10Net architecture:\n",
            "\n",
            "CIFAR10Net(\n",
            "  (conv1): Conv2d(3, 6, kernel_size=(5, 5), stride=(1, 1))\n",
            "  (pool1): MaxPool2d(kernel_size=2, stride=2, padding=0, dilation=1, ceil_mode=False)\n",
            "  (conv2): Conv2d(6, 16, kernel_size=(5, 5), stride=(1, 1))\n",
            "  (pool2): MaxPool2d(kernel_size=2, stride=2, padding=0, dilation=1, ceil_mode=False)\n",
            "  (linear1): Linear(in_features=400, out_features=120, bias=True)\n",
            "  (relu1): ReLU(inplace=True)\n",
            "  (linear2): Linear(in_features=120, out_features=84, bias=True)\n",
            "  (relu2): ReLU(inplace=True)\n",
            "  (linear3): Linear(in_features=84, out_features=10, bias=True)\n",
            "  (logsoftmax): LogSoftmax(dim=1)\n",
            "  (relu): ReLU(inplace=True)\n",
            ")\n",
            "\n",
            "[LOG] Number of to be trained CIFAR10Net model parameters: 62006.\n"
          ]
        }
      ]
    },
    {
      "cell_type": "markdown",
      "source": [
        "Neural network model training"
      ],
      "metadata": {
        "id": "KtfX2GL5V-ii"
      }
    },
    {
      "cell_type": "code",
      "source": [
        "# specify the training parameters\n",
        "num_epochs = 30 # number of training epochs\n",
        "mini_batch_size = 128 # size of the mini-batches\n",
        "\n",
        "cifar10_train_dataloader = torch.utils.data.DataLoader(cifar10_train_data, batch_size=mini_batch_size, shuffle=True)\n",
        "\n",
        "# init collection of training epoch losses\n",
        "train_epoch_losses = []\n",
        "\n",
        "# set the model in training mode\n",
        "model.train()\n",
        "\n",
        "# train the CIFAR10 model\n",
        "for epoch in range(num_epochs):\n",
        "    \n",
        "    # init collection of mini-batch losses\n",
        "    train_mini_batch_losses = []\n",
        "    \n",
        "    # iterate over all-mini batches\n",
        "    for i, (images, labels) in enumerate(cifar10_train_dataloader):\n",
        "        \n",
        "        # push mini-batch data to computation device\n",
        "        images = images.to(device)\n",
        "        labels = labels.to(device)\n",
        "\n",
        "        # run forward pass through the network\n",
        "        output = model(images)\n",
        "        \n",
        "        # reset graph gradients\n",
        "        model.zero_grad()\n",
        "        \n",
        "        # determine classification loss\n",
        "        loss = nll_loss(output, labels)\n",
        "        \n",
        "        # run backward pass\n",
        "        loss.backward()\n",
        "        \n",
        "        # update network paramaters\n",
        "        optimizer.step()\n",
        "        \n",
        "        # collect mini-batch reconstruction loss\n",
        "        train_mini_batch_losses.append(loss.data.item())\n",
        "\n",
        "    # determine mean min-batch loss of epoch\n",
        "    train_epoch_loss = np.mean(train_mini_batch_losses)\n",
        "    \n",
        "    # print epoch loss\n",
        "    now = datetime.utcnow().strftime(\"%Y%m%d-%H:%M:%S\")\n",
        "    print('[LOG {}] epoch: {} train-loss: {}'.format(str(now), str(epoch), str(train_epoch_loss)))\n",
        "    \n",
        "    # set filename of actual model\n",
        "    model_name = 'cifar10_model_epoch_{}.pth'.format(str(epoch))\n",
        "\n",
        "    # save current model to GDrive models directory\n",
        "    torch.save(model.state_dict(), os.path.join(models_directory, model_name))\n",
        "    \n",
        "    # determine mean min-batch loss of epoch\n",
        "    train_epoch_losses.append(train_epoch_loss)\n"
      ],
      "metadata": {
        "colab": {
          "base_uri": "https://localhost:8080/",
          "height": 232
        },
        "id": "-_EkRVqPTbuT",
        "outputId": "8682e5ed-80c2-4806-c951-b10014503b2c"
      },
      "execution_count": 33,
      "outputs": [
        {
          "output_type": "error",
          "ename": "ValueError",
          "evalue": "ignored",
          "traceback": [
            "\u001b[0;31m---------------------------------------------------------------------------\u001b[0m",
            "\u001b[0;31mValueError\u001b[0m                                Traceback (most recent call last)",
            "\u001b[0;32m<ipython-input-33-fc885a103c63>\u001b[0m in \u001b[0;36m<module>\u001b[0;34m()\u001b[0m\n\u001b[1;32m     18\u001b[0m \u001b[0;34m\u001b[0m\u001b[0m\n\u001b[1;32m     19\u001b[0m     \u001b[0;31m# iterate over all-mini batches\u001b[0m\u001b[0;34m\u001b[0m\u001b[0;34m\u001b[0m\u001b[0;34m\u001b[0m\u001b[0m\n\u001b[0;32m---> 20\u001b[0;31m     \u001b[0;32mfor\u001b[0m \u001b[0mi\u001b[0m\u001b[0;34m,\u001b[0m \u001b[0;34m(\u001b[0m\u001b[0mimages\u001b[0m\u001b[0;34m,\u001b[0m \u001b[0mlabels\u001b[0m\u001b[0;34m)\u001b[0m \u001b[0;32min\u001b[0m \u001b[0menumerate\u001b[0m\u001b[0;34m(\u001b[0m\u001b[0mcifar10_train_dataloader\u001b[0m\u001b[0;34m)\u001b[0m\u001b[0;34m:\u001b[0m\u001b[0;34m\u001b[0m\u001b[0;34m\u001b[0m\u001b[0m\n\u001b[0m\u001b[1;32m     21\u001b[0m \u001b[0;34m\u001b[0m\u001b[0m\n\u001b[1;32m     22\u001b[0m         \u001b[0;31m# push mini-batch data to computation device\u001b[0m\u001b[0;34m\u001b[0m\u001b[0;34m\u001b[0m\u001b[0;34m\u001b[0m\u001b[0m\n",
            "\u001b[0;31mValueError\u001b[0m: too many values to unpack (expected 2)"
          ]
        }
      ]
    },
    {
      "cell_type": "markdown",
      "source": [
        "Visualisation of the training loss per epoch"
      ],
      "metadata": {
        "id": "oGeZwVJYGbre"
      }
    },
    {
      "cell_type": "code",
      "source": [
        "# prepare plot\n",
        "fig = plt.figure()\n",
        "ax = fig.add_subplot(111)\n",
        "\n",
        "# add grid\n",
        "ax.grid(linestyle='dotted')\n",
        "\n",
        "# plot the training epochs vs. the epochs' classification error\n",
        "ax.plot(np.array(range(1, len(train_epoch_losses)+1)), train_epoch_losses, label='epoch loss (blue)')\n",
        "\n",
        "# add axis legends\n",
        "ax.set_xlabel(\"[training epoch $e_i$]\", fontsize=10)\n",
        "ax.set_ylabel(\"[Loss $\\mathcal{L}^{NLL}$]\", fontsize=10)\n",
        "\n",
        "# set plot legend\n",
        "plt.legend(loc=\"upper right\", numpoints=1, fancybox=True)\n",
        "\n",
        "# add plot title\n",
        "plt.title('Training Epochs $e_i$ vs. Loss $L^{NLL}$', fontsize=10);"
      ],
      "metadata": {
        "colab": {
          "base_uri": "https://localhost:8080/",
          "height": 301
        },
        "id": "LaAozJtGGcdO",
        "outputId": "9a8933a5-06ce-414d-a397-73b45f95c454"
      },
      "execution_count": 32,
      "outputs": [
        {
          "output_type": "display_data",
          "data": {
            "text/plain": [
              "<Figure size 432x288 with 1 Axes>"
            ],
            "image/png": "[encoded data removed]"
          },
          "metadata": {
            "needs_background": "light"
          }
        }
      ]
    },
    {
      "cell_type": "markdown",
      "source": [
        "Neural network model evaluation"
      ],
      "metadata": {
        "id": "hpNyRjZ0W60J"
      }
    },
    {
      "cell_type": "code",
      "source": [
        "# restore pre-trained model snapshot\n",
        "best_model_name = os.path.join(models_directory, 'cifar10_model_epoch_29.pth')\n",
        "\n",
        "# load state_dict from path\n",
        "state_dict_best = torch.load(best_model_name, map_location=torch.device('cpu'))\n",
        "\n",
        "# init pre-trained model class\n",
        "best_model = CIFAR10Net()\n",
        "\n",
        "# load pre-trained models\n",
        "best_model.load_state_dict(state_dict_best)\n",
        "\n",
        "# set model in evaluation mode\n",
        "best_model.eval()\n",
        "\n",
        "cifar10_test_dataloader = torch.utils.data.DataLoader(cifar10_test_data, batch_size=10000, shuffle=False)\n",
        "\n",
        "# init collection of mini-batch losses\n",
        "test_mini_batch_losses = []\n",
        "\n",
        "# iterate over all-mini batches\n",
        "for i, (images, labels) in enumerate(cifar10_test_dataloader):\n",
        "\n",
        "    # run forward pass through the network\n",
        "    output = best_model(images)\n",
        "\n",
        "    # determine classification loss\n",
        "    loss = nll_loss(output, labels)\n",
        "\n",
        "    # collect mini-batch reconstruction loss\n",
        "    test_mini_batch_losses.append(loss.data.item())\n",
        "\n",
        "# determine mean min-batch loss of epoch\n",
        "test_loss = np.mean(test_mini_batch_losses)\n",
        "\n",
        "# print epoch loss\n",
        "now = datetime.utcnow().strftime(\"%Y%m%d-%H:%M:%S\")\n",
        "print('[LOG {}] eval-loss: {}'.format(str(now), str(test_loss)))\n",
        "\n",
        "\n",
        "\n",
        "\n",
        "predictions = torch.argmax(best_model(iter(cifar10_test_dataloader).next()[0]), dim=1)\n",
        "\n",
        "metrics.accuracy_score(cifar10_test.targets, predictions.detach())\n",
        "\n",
        "# determine classification matrix of the predicted and target classes\n",
        "mat = confusion_matrix(cifar10_test.targets, predictions.detach())\n",
        "\n",
        "# initialize the plot and define size\n",
        "plt.figure(figsize=(8, 8))\n",
        "\n",
        "# plot corresponding confusion matrix\n",
        "sns.heatmap(mat.T, square=True, annot=True, fmt='d', cbar=False, cmap='YlOrRd_r', xticklabels=cifar10_classes, yticklabels=cifar10_classes)\n",
        "plt.tick_params(axis='both', which='major', labelsize=8, labelbottom = False, bottom=False, top = False, left = False, labeltop=True)\n",
        "\n",
        "# set plot title\n",
        "plt.title('CIFAR-10 classification matrix')\n",
        "\n",
        "# set plot axis lables\n",
        "plt.xlabel('[true label]')\n",
        "plt.ylabel('[predicted label]');\n",
        "\n"
      ],
      "metadata": {
        "colab": {
          "base_uri": "https://localhost:8080/",
          "height": 300
        },
        "id": "HY8id1d7W7Ed",
        "outputId": "d085f4d2-14f8-4427-f517-06d2272083a3"
      },
      "execution_count": null,
      "outputs": [
        {
          "output_type": "error",
          "ename": "NameError",
          "evalue": "ignored",
          "traceback": [
            "\u001b[0;31m---------------------------------------------------------------------------\u001b[0m",
            "\u001b[0;31mNameError\u001b[0m                                 Traceback (most recent call last)",
            "\u001b[0;32m<ipython-input-30-7cb4413d765a>\u001b[0m in \u001b[0;36m<module>\u001b[0;34m()\u001b[0m\n\u001b[1;32m      1\u001b[0m \u001b[0;31m# restore pre-trained model snapshot\u001b[0m\u001b[0;34m\u001b[0m\u001b[0;34m\u001b[0m\u001b[0;34m\u001b[0m\u001b[0m\n\u001b[0;32m----> 2\u001b[0;31m \u001b[0mbest_model_name\u001b[0m \u001b[0;34m=\u001b[0m \u001b[0mos\u001b[0m\u001b[0;34m.\u001b[0m\u001b[0mpath\u001b[0m\u001b[0;34m.\u001b[0m\u001b[0mjoin\u001b[0m\u001b[0;34m(\u001b[0m\u001b[0mmodels_directory\u001b[0m\u001b[0;34m,\u001b[0m \u001b[0;34m'cifar10_model_epoch_29.pth'\u001b[0m\u001b[0;34m)\u001b[0m\u001b[0;34m\u001b[0m\u001b[0;34m\u001b[0m\u001b[0m\n\u001b[0m\u001b[1;32m      3\u001b[0m \u001b[0;34m\u001b[0m\u001b[0m\n\u001b[1;32m      4\u001b[0m \u001b[0;31m# load state_dict from path\u001b[0m\u001b[0;34m\u001b[0m\u001b[0;34m\u001b[0m\u001b[0;34m\u001b[0m\u001b[0m\n\u001b[1;32m      5\u001b[0m \u001b[0mstate_dict_best\u001b[0m \u001b[0;34m=\u001b[0m \u001b[0mtorch\u001b[0m\u001b[0;34m.\u001b[0m\u001b[0mload\u001b[0m\u001b[0;34m(\u001b[0m\u001b[0mbest_model_name\u001b[0m\u001b[0;34m,\u001b[0m \u001b[0mmap_location\u001b[0m\u001b[0;34m=\u001b[0m\u001b[0mtorch\u001b[0m\u001b[0;34m.\u001b[0m\u001b[0mdevice\u001b[0m\u001b[0;34m(\u001b[0m\u001b[0;34m'cpu'\u001b[0m\u001b[0;34m)\u001b[0m\u001b[0;34m)\u001b[0m\u001b[0;34m\u001b[0m\u001b[0;34m\u001b[0m\u001b[0m\n",
            "\u001b[0;31mNameError\u001b[0m: name 'models_directory' is not defined"
          ]
        }
      ]
    }
  ],
  "metadata": {
    "interpreter": {
      "hash": "8a759edab9623fec557173fc5dc3172aac588fd51e2e191f985f3e24b521fb85"
    },
    "kernelspec": {
      "display_name": "Python 3.7.9 ('base')",
      "language": "python",
      "name": "python3"
    },
    "language_info": {
      "codemirror_mode": {
        "name": "ipython",
        "version": 3
      },
      "file_extension": ".py",
      "mimetype": "text/x-python",
      "name": "python",
      "nbconvert_exporter": "python",
      "pygments_lexer": "ipython3",
      "version": "3.7.9"
    },
    "orig_nbformat": 4,
    "colab": {
      "name": "Copy of assignment_2.ipynb",
      "provenance": [],
      "include_colab_link": true
    }
  },
  "nbformat": 4,
  "nbformat_minor": 0
}